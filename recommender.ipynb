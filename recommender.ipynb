{
 "metadata": {
  "language_info": {
   "codemirror_mode": {
    "name": "ipython",
    "version": 3
   },
   "file_extension": ".py",
   "mimetype": "text/x-python",
   "name": "python",
   "nbconvert_exporter": "python",
   "pygments_lexer": "ipython3",
   "version": "3.9.1-final"
  },
  "orig_nbformat": 2,
  "kernelspec": {
   "name": "python3",
   "display_name": "Python 3.9.1 64-bit",
   "metadata": {
    "interpreter": {
     "hash": "6e850c2036d4dbbe99e837e64d5b4c3b56edb6d0747f5497aab8efb02d2d7546"
    }
   }
  }
 },
 "nbformat": 4,
 "nbformat_minor": 2,
 "cells": [
  {
   "cell_type": "code",
   "execution_count": 1,
   "metadata": {},
   "outputs": [],
   "source": [
    "import json\n",
    "from statistics import mean\n",
    "import os,glob\n",
    "import numpy as np\n",
    "import pandas as pd\n",
    "from sklearn.feature_extraction.text import TfidfVectorizer\n",
    "from sklearn.metrics.pairwise import linear_kernel "
   ]
  },
  {
   "cell_type": "code",
   "execution_count": 4,
   "metadata": {},
   "outputs": [],
   "source": [
    "\n",
    "with open('json/database_ref_tags.json', encoding=\"utf8\") as f:\n",
    "    ref_tags = json.load(f)['list']\n",
    "with open('json/database_tag_count.json', encoding=\"utf8\") as f:\n",
    "    database_tag_count = json.load(f)['list']\n",
    "tags = {'tags': ref_tags,'count':database_tag_count}\n",
    "tags = pd.DataFrame.from_dict(tags,orient='columns')\n"
   ]
  },
  {
   "cell_type": "code",
   "execution_count": 6,
   "metadata": {
    "tags": []
   },
   "outputs": [],
   "source": [
    "folder_path = 'json/database/'\n",
    "movie_database = []\n",
    "for filename in glob.glob(os.path.join(folder_path, '*.json')):\n",
    "    with open(filename, 'r',encoding=\"utf8\") as f:\n",
    "        jsonFile = json.load(f)['posts']            \n",
    "        movie_database = [ *movie_database,*jsonFile]\n",
    "        \n",
    "with open('json/users/ropeiscut-movies.json', encoding=\"utf8\") as f:\n",
    "    user_database = json.load(f)\n",
    "user_database = user_database['movies'] \n"
   ]
  },
  {
   "cell_type": "code",
   "execution_count": 4,
   "metadata": {},
   "outputs": [
    {
     "output_type": "error",
     "ename": "KeyboardInterrupt",
     "evalue": "",
     "traceback": [
      "\u001b[1;31m---------------------------------------------------------------------------\u001b[0m",
      "\u001b[1;31mKeyboardInterrupt\u001b[0m                         Traceback (most recent call last)",
      "\u001b[1;32m<ipython-input-4-d59cb481767e>\u001b[0m in \u001b[0;36m<module>\u001b[1;34m\u001b[0m\n\u001b[0;32m     13\u001b[0m     \u001b[0mfiltered_json\u001b[0m\u001b[1;33m[\u001b[0m\u001b[1;34m'vote_count'\u001b[0m\u001b[1;33m]\u001b[0m \u001b[1;33m=\u001b[0m \u001b[0mfloat\u001b[0m\u001b[1;33m(\u001b[0m\u001b[0mmovie\u001b[0m\u001b[1;33m[\u001b[0m\u001b[1;34m\"vote_count\"\u001b[0m\u001b[1;33m]\u001b[0m\u001b[1;33m)\u001b[0m\u001b[1;33m\u001b[0m\u001b[1;33m\u001b[0m\u001b[0m\n\u001b[0;32m     14\u001b[0m     \u001b[0mmovie_list\u001b[0m\u001b[1;33m.\u001b[0m\u001b[0mappend\u001b[0m\u001b[1;33m(\u001b[0m\u001b[0mfiltered_json\u001b[0m\u001b[1;33m)\u001b[0m\u001b[1;33m\u001b[0m\u001b[1;33m\u001b[0m\u001b[0m\n\u001b[1;32m---> 15\u001b[1;33m     \u001b[0mfiltered_movie_database\u001b[0m \u001b[1;33m=\u001b[0m \u001b[1;33m[\u001b[0m \u001b[1;33m*\u001b[0m\u001b[0mfiltered_movie_database\u001b[0m\u001b[1;33m,\u001b[0m\u001b[1;33m*\u001b[0m\u001b[0mmovie_list\u001b[0m\u001b[1;33m]\u001b[0m\u001b[1;33m\u001b[0m\u001b[1;33m\u001b[0m\u001b[0m\n\u001b[0m",
      "\u001b[1;31mKeyboardInterrupt\u001b[0m: "
     ]
    }
   ],
   "source": [
    "\n",
    "filtered_movie_database = []\n",
    "for movie in movie_database:\n",
    "    movie_list=[]\n",
    "    genres = ''\n",
    "    filtered_json = {}\n",
    "    for genre in movie['genres']:\n",
    "        genres += genre['name'].replace(' ', '_') + \" \"\n",
    "    filtered_json['id'] = int(movie['id'])\n",
    "    filtered_json['title'] = movie['title'].lower()\n",
    "    filtered_json['tags'] = genres.lower() + movie[\"overview\"]\n",
    "    filtered_json['imdb_id'] = movie[\"imdb_id\"]\n",
    "    filtered_json['vote_average'] = float(movie[\"vote_average\"])\n",
    "    filtered_json['vote_count'] = float(movie[\"vote_count\"])\n",
    "    movie_list.append(filtered_json)                \n",
    "    filtered_movie_database = [ *filtered_movie_database,*movie_list]"
   ]
  },
  {
   "cell_type": "code",
   "execution_count": null,
   "metadata": {
    "tags": []
   },
   "outputs": [],
   "source": [
    "movie_df = pd.DataFrame.from_dict(filtered_movie_database,orient='columns')\n",
    "movie_df = movie_df[['id','title','tags','imdb_id','vote_average','vote_count']]\n",
    "movie_df['id'].replace('', np.nan, inplace=True)\n",
    "movie_df.dropna(subset=['id'], inplace=True)\n",
    "movie_df.id = movie_df.id.astype('float').astype('Int32')\n",
    "C = movie_df['vote_average'].mean()\n",
    "# movie_df.assign(imdb_rating=(movie_df.vote_count*movie_df.vote_average ))\n",
    "\n",
    "\n",
    "user_df = pd.DataFrame.from_dict(user_database,orient='columns')\n",
    "user_df = user_df[['id','rating']]\n",
    "user_df['id'].replace('', np.nan, inplace=True)\n",
    "user_df.dropna(subset=['id'], inplace=True)\n",
    "user_df.id = user_df.id.astype('float').astype('Int32')\n",
    "user_df = user_df.merge(movie_df,on=\"id\",how='inner')\n"
   ]
  },
  {
   "cell_type": "code",
   "execution_count": null,
   "metadata": {},
   "outputs": [],
   "source": [
    "for movie in movie_database:\n",
    "    genres = ''\n",
    "    filtered_json = {}\n",
    "    for genre in movie['genres']:\n",
    "        genres += genre['name'].replace(' ', '_') + \" \"\n",
    "    filtered_json['id'] = movie['id']\n",
    "    filtered_json['title'] = movie['title'].lower()\n",
    "    filtered_json['tags'] = genres + movie[\"overview\"]\n",
    "    filtered_json['imdb_id'] = movie[\"imdb_id\"]\n",
    "    filtered_json['vote_average'] = movie[\"vote_average\"]\n",
    "    filtered_json['vote_count'] = movie[\"vote_count\"]\n",
    "    movie_list.append(filtered_json)                \n",
    "    filtered_movie_database = [ *filtered_movie_database,*movie_list]"
   ]
  },
  {
   "cell_type": "code",
   "execution_count": null,
   "metadata": {},
   "outputs": [],
   "source": [
    "tf = TfidfVectorizer(analyzer='word',ngram_range=(1,1),stop_words=\"english\")\n",
    "tfidf_matrix = tf.fit_transform(movie_df['tags'])"
   ]
  },
  {
   "cell_type": "code",
   "execution_count": null,
   "metadata": {},
   "outputs": [],
   "source": [
    "cosine_similarities = linear_kernel(tfidf_matrix, tfidf_matrix) \n"
   ]
  },
  {
   "cell_type": "code",
   "execution_count": null,
   "metadata": {},
   "outputs": [],
   "source": [
    "indices = pd.DataFrame(movie_df[['title','id']])\n",
    "indices.index = movie_df.index"
   ]
  },
  {
   "cell_type": "code",
   "execution_count": null,
   "metadata": {},
   "outputs": [],
   "source": [
    "# results = {}\n",
    "# for idx, row in movie_df.iterrows():\n",
    "#    similar_indices = cosine_similarities[idx].argsort()[:-100:-1] \n",
    "#    similar_items = [(cosine_similarities[idx][i], movie_df['id'][i]) for i in similar_indices] \n",
    "#    results[row['id']] = similar_items[1:]"
   ]
  },
  {
   "cell_type": "code",
   "execution_count": null,
   "metadata": {},
   "outputs": [],
   "source": [
    "# Function that takes in movie title as input and outputs most similar movies\n",
    "def get_recommendations(id, n,cosine_sim=cosine_similarities):\n",
    "    # Get the index of the movie that matches the id\n",
    "    idx = indices[indices['id']==id].index.values[0]\n",
    "\n",
    "    # Get the pairwsie similarity scores of all movies with that movie\n",
    "    sim_scores = list(enumerate(cosine_similarities[idx]))\n",
    "\n",
    "    # Sort the movies based on the similarity scores\n",
    "    sim_scores = sorted(sim_scores, key=lambda x: x[1], reverse=True)\n",
    "\n",
    "    # Get the scores of the 10 most similar movies\n",
    "    sim_scores = sim_scores[:n]\n",
    "\n",
    "    # Get the movie indices\n",
    "    movie_indices = [i[0] for i in sim_scores]\n",
    "\n",
    "    # Return the top 10 most similar movies\n",
    "    return movie_df['title'].iloc[movie_indices]"
   ]
  },
  {
   "cell_type": "code",
   "execution_count": null,
   "metadata": {},
   "outputs": [],
   "source": [
    "get_recommendations(id=153,n=10)"
   ]
  },
  {
   "cell_type": "code",
   "execution_count": null,
   "metadata": {},
   "outputs": [],
   "source": []
  }
 ]
}